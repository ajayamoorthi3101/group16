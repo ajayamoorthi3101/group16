{
 "cells": [
  {
   "cell_type": "markdown",
   "metadata": {},
   "source": [
    "# Sentiment Analysis for Customer Reviews Challenge"
   ]
  },
  {
   "cell_type": "markdown",
   "metadata": {},
   "source": [
    "## Challenge:\n",
    "Develop a robust Sentiment Analysis classifier for XYZ customer reviews, automating the categorization into positive, negative, or neutral sentiments. Utilize Natural Language Processing (NLP) techniques, exploring different sentiment analysis methods."
   ]
  },
  {
   "cell_type": "markdown",
   "metadata": {},
   "source": [
    "## Problem Statement:\n",
    "XYZ organization, a global online retail giant, accumulates a vast number of customer reviews daily. Extracting sentiments from these reviews offers insights into customer satisfaction, product quality, and market trends. The challenge is to create an effective sentiment analysis model that accurately classifies XYZ customer reviews."
   ]
  },
  {
   "cell_type": "markdown",
   "metadata": {},
   "source": [
    "### Important Instructions:\n",
    "\n",
    "1. Make sure this ipynb file that you have cloned is in the __Project__ folder on the Desktop. The Dataset is also available in the same folder.\n",
    "2. Ensure that all the cells in the notebook can be executed without any errors.\n",
    "3. Once the Challenge has been completed, save the SentimentAnalysis.ipynb notebook in the __*Project*__ Folder on the desktop. If the file is not present in that folder, autoevalution will fail.\n",
    "4. Print the evaluation metrics of the model. \n",
    "5. Before you submit the challenge for evaluation, please make sure you have assigned the Accuracy score of the model that was created for evaluation.\n",
    "6. Assign the Accuracy score obtained for the model created in this challenge to the specified variable in the predefined function *submit_accuracy_score*. The solution is to be written between the comments `# code starts here` and `# code ends here`\n",
    "7. Please do not make any changes to the variable names and the function name *submit_accuracy_score* as this will be used for automated evaluation of the challenge. Any modification in these names will result in unexpected behaviour."
   ]
  },
  {
   "cell_type": "markdown",
   "metadata": {},
   "source": [
    "### --------------------------------------- CHALLENGE CODE STARTS HERE --------------------------------------------"
   ]
  },
  {
   "cell_type": "code",
   "execution_count": 191,
   "metadata": {},
   "outputs": [
    {
     "name": "stdout",
     "output_type": "stream",
     "text": [
      "Defaulting to user installation because normal site-packages is not writeable\n",
      "Requirement already satisfied: openpyxl in /home/labuser/.local/lib/python3.10/site-packages (3.1.2)\n",
      "Requirement already satisfied: et-xmlfile in /home/labuser/.local/lib/python3.10/site-packages (from openpyxl) (1.1.0)\n"
     ]
    }
   ],
   "source": [
    "!pip install openpyxl\n",
    "import nltk\n",
    "import pandas as pd\n",
    "import numpy as np\n",
    "from nltk.sentiment.vader import SentimentIntensityAnalyzer\n",
    "from sklearn.model_selection import train_test_split\n",
    "from sklearn.metrics import accuracy_score as asc\n"
   ]
  },
  {
   "cell_type": "code",
   "execution_count": 164,
   "metadata": {},
   "outputs": [
    {
     "data": {
      "text/html": [
       "<div>\n",
       "<style scoped>\n",
       "    .dataframe tbody tr th:only-of-type {\n",
       "        vertical-align: middle;\n",
       "    }\n",
       "\n",
       "    .dataframe tbody tr th {\n",
       "        vertical-align: top;\n",
       "    }\n",
       "\n",
       "    .dataframe thead th {\n",
       "        text-align: right;\n",
       "    }\n",
       "</style>\n",
       "<table border=\"1\" class=\"dataframe\">\n",
       "  <thead>\n",
       "    <tr style=\"text-align: right;\">\n",
       "      <th></th>\n",
       "      <th>Id</th>\n",
       "      <th>ProductId</th>\n",
       "      <th>UserId</th>\n",
       "      <th>ProfileName</th>\n",
       "      <th>HelpfulnessNumerator</th>\n",
       "      <th>HelpfulnessDenominator</th>\n",
       "      <th>Score</th>\n",
       "      <th>Time</th>\n",
       "      <th>Summary</th>\n",
       "      <th>Text</th>\n",
       "    </tr>\n",
       "  </thead>\n",
       "  <tbody>\n",
       "    <tr>\n",
       "      <th>0</th>\n",
       "      <td>1</td>\n",
       "      <td>B001E4KFG0</td>\n",
       "      <td>A3SGXH7AUHU8GW</td>\n",
       "      <td>delmartian</td>\n",
       "      <td>1</td>\n",
       "      <td>1</td>\n",
       "      <td>5</td>\n",
       "      <td>1303862400</td>\n",
       "      <td>Good Quality Dog Food</td>\n",
       "      <td>I have bought several of the Vitality canned d...</td>\n",
       "    </tr>\n",
       "    <tr>\n",
       "      <th>1</th>\n",
       "      <td>2</td>\n",
       "      <td>B00813GRG4</td>\n",
       "      <td>A1D87F6ZCVE5NK</td>\n",
       "      <td>dll pa</td>\n",
       "      <td>0</td>\n",
       "      <td>0</td>\n",
       "      <td>1</td>\n",
       "      <td>1346976000</td>\n",
       "      <td>Not as Advertised</td>\n",
       "      <td>Product arrived labeled as Jumbo Salted Peanut...</td>\n",
       "    </tr>\n",
       "    <tr>\n",
       "      <th>2</th>\n",
       "      <td>3</td>\n",
       "      <td>B000LQOCH0</td>\n",
       "      <td>ABXLMWJIXXAIN</td>\n",
       "      <td>Natalia Corres \"Natalia Corres\"</td>\n",
       "      <td>1</td>\n",
       "      <td>1</td>\n",
       "      <td>4</td>\n",
       "      <td>1219017600</td>\n",
       "      <td>\"Delight\" says it all</td>\n",
       "      <td>This is a confection that has been around a fe...</td>\n",
       "    </tr>\n",
       "    <tr>\n",
       "      <th>3</th>\n",
       "      <td>4</td>\n",
       "      <td>B000UA0QIQ</td>\n",
       "      <td>A395BORC6FGVXV</td>\n",
       "      <td>Karl</td>\n",
       "      <td>3</td>\n",
       "      <td>3</td>\n",
       "      <td>2</td>\n",
       "      <td>1307923200</td>\n",
       "      <td>Cough Medicine</td>\n",
       "      <td>If you are looking for the secret ingredient i...</td>\n",
       "    </tr>\n",
       "    <tr>\n",
       "      <th>4</th>\n",
       "      <td>5</td>\n",
       "      <td>B006K2ZZ7K</td>\n",
       "      <td>A1UQRSCLF8GW1T</td>\n",
       "      <td>Michael D. Bigham \"M. Wassir\"</td>\n",
       "      <td>0</td>\n",
       "      <td>0</td>\n",
       "      <td>5</td>\n",
       "      <td>1350777600</td>\n",
       "      <td>Great taffy</td>\n",
       "      <td>Great taffy at a great price.  There was a wid...</td>\n",
       "    </tr>\n",
       "  </tbody>\n",
       "</table>\n",
       "</div>"
      ],
      "text/plain": [
       "   Id   ProductId          UserId                      ProfileName  \\\n",
       "0   1  B001E4KFG0  A3SGXH7AUHU8GW                       delmartian   \n",
       "1   2  B00813GRG4  A1D87F6ZCVE5NK                           dll pa   \n",
       "2   3  B000LQOCH0   ABXLMWJIXXAIN  Natalia Corres \"Natalia Corres\"   \n",
       "3   4  B000UA0QIQ  A395BORC6FGVXV                             Karl   \n",
       "4   5  B006K2ZZ7K  A1UQRSCLF8GW1T    Michael D. Bigham \"M. Wassir\"   \n",
       "\n",
       "   HelpfulnessNumerator  HelpfulnessDenominator  Score        Time  \\\n",
       "0                     1                       1      5  1303862400   \n",
       "1                     0                       0      1  1346976000   \n",
       "2                     1                       1      4  1219017600   \n",
       "3                     3                       3      2  1307923200   \n",
       "4                     0                       0      5  1350777600   \n",
       "\n",
       "                 Summary                                               Text  \n",
       "0  Good Quality Dog Food  I have bought several of the Vitality canned d...  \n",
       "1      Not as Advertised  Product arrived labeled as Jumbo Salted Peanut...  \n",
       "2  \"Delight\" says it all  This is a confection that has been around a fe...  \n",
       "3         Cough Medicine  If you are looking for the secret ingredient i...  \n",
       "4            Great taffy  Great taffy at a great price.  There was a wid...  "
      ]
     },
     "execution_count": 164,
     "metadata": {},
     "output_type": "execute_result"
    }
   ],
   "source": [
    "df = pd.read_csv('/home/labuser/Desktop/Project/Reviews.csv')\n",
    "df.head(5)"
   ]
  },
  {
   "cell_type": "code",
   "execution_count": 165,
   "metadata": {},
   "outputs": [
    {
     "name": "stdout",
     "output_type": "stream",
     "text": [
      "<bound method DataFrame.count of                                                      Text\n",
      "0       I have bought several of the Vitality canned d...\n",
      "1       Product arrived labeled as Jumbo Salted Peanut...\n",
      "2       This is a confection that has been around a fe...\n",
      "3       If you are looking for the secret ingredient i...\n",
      "4       Great taffy at a great price.  There was a wid...\n",
      "...                                                   ...\n",
      "568449  Great for sesame chicken..this is a good if no...\n",
      "568450  I'm disappointed with the flavor. The chocolat...\n",
      "568451  These stars are small, so you can give 10-15 o...\n",
      "568452  These are the BEST treats for training and rew...\n",
      "568453  I am very satisfied ,product is as advertised,...\n",
      "\n",
      "[568454 rows x 1 columns]>\n",
      "<bound method DataFrame.count of                                    Summary\n",
      "0                    Good Quality Dog Food\n",
      "1                        Not as Advertised\n",
      "2                    \"Delight\" says it all\n",
      "3                           Cough Medicine\n",
      "4                              Great taffy\n",
      "...                                    ...\n",
      "568449                 Will not do without\n",
      "568450                        disappointed\n",
      "568451            Perfect for our maltipoo\n",
      "568452  Favorite Training and reward treat\n",
      "568453                         Great Honey\n",
      "\n",
      "[568454 rows x 1 columns]>\n"
     ]
    }
   ],
   "source": [
    "df1 = df[['Text']].copy()\n",
    "df2=df[['Summary']].copy()\n",
    "print(df1.count)\n",
    "print(df2.count)"
   ]
  },
  {
   "cell_type": "code",
   "execution_count": 166,
   "metadata": {},
   "outputs": [],
   "source": [
    "def normalize_score(score,min_val,max_val):\n",
    "    return(score-min_val)/(max_val-min_val)"
   ]
  },
  {
   "cell_type": "code",
   "execution_count": 167,
   "metadata": {},
   "outputs": [
    {
     "data": {
      "text/html": [
       "<div>\n",
       "<style scoped>\n",
       "    .dataframe tbody tr th:only-of-type {\n",
       "        vertical-align: middle;\n",
       "    }\n",
       "\n",
       "    .dataframe tbody tr th {\n",
       "        vertical-align: top;\n",
       "    }\n",
       "\n",
       "    .dataframe thead th {\n",
       "        text-align: right;\n",
       "    }\n",
       "</style>\n",
       "<table border=\"1\" class=\"dataframe\">\n",
       "  <thead>\n",
       "    <tr style=\"text-align: right;\">\n",
       "      <th></th>\n",
       "      <th>Sentences</th>\n",
       "    </tr>\n",
       "  </thead>\n",
       "  <tbody>\n",
       "    <tr>\n",
       "      <th>0</th>\n",
       "      <td>Good Quality Dog Food</td>\n",
       "    </tr>\n",
       "    <tr>\n",
       "      <th>1</th>\n",
       "      <td>Not as Advertised</td>\n",
       "    </tr>\n",
       "    <tr>\n",
       "      <th>2</th>\n",
       "      <td>\"Delight\" says it all</td>\n",
       "    </tr>\n",
       "    <tr>\n",
       "      <th>3</th>\n",
       "      <td>Cough Medicine</td>\n",
       "    </tr>\n",
       "    <tr>\n",
       "      <th>4</th>\n",
       "      <td>Great taffy</td>\n",
       "    </tr>\n",
       "    <tr>\n",
       "      <th>...</th>\n",
       "      <td>...</td>\n",
       "    </tr>\n",
       "    <tr>\n",
       "      <th>568449</th>\n",
       "      <td>Will not do without</td>\n",
       "    </tr>\n",
       "    <tr>\n",
       "      <th>568450</th>\n",
       "      <td>disappointed</td>\n",
       "    </tr>\n",
       "    <tr>\n",
       "      <th>568451</th>\n",
       "      <td>Perfect for our maltipoo</td>\n",
       "    </tr>\n",
       "    <tr>\n",
       "      <th>568452</th>\n",
       "      <td>Favorite Training and reward treat</td>\n",
       "    </tr>\n",
       "    <tr>\n",
       "      <th>568453</th>\n",
       "      <td>Great Honey</td>\n",
       "    </tr>\n",
       "  </tbody>\n",
       "</table>\n",
       "<p>568454 rows × 1 columns</p>\n",
       "</div>"
      ],
      "text/plain": [
       "                                 Sentences\n",
       "0                    Good Quality Dog Food\n",
       "1                        Not as Advertised\n",
       "2                    \"Delight\" says it all\n",
       "3                           Cough Medicine\n",
       "4                              Great taffy\n",
       "...                                    ...\n",
       "568449                 Will not do without\n",
       "568450                        disappointed\n",
       "568451            Perfect for our maltipoo\n",
       "568452  Favorite Training and reward treat\n",
       "568453                         Great Honey\n",
       "\n",
       "[568454 rows x 1 columns]"
      ]
     },
     "execution_count": 167,
     "metadata": {},
     "output_type": "execute_result"
    }
   ],
   "source": [
    "df1 = df1.rename(columns={'Text':'Sentences'})\n",
    "\n",
    "df2 = df2.rename(columns={'Summary':'Sentences'})\n",
    "df2"
   ]
  },
  {
   "cell_type": "code",
   "execution_count": 168,
   "metadata": {},
   "outputs": [
    {
     "name": "stderr",
     "output_type": "stream",
     "text": [
      "/tmp/ipykernel_4206/1046642672.py:9: FutureWarning: Setting an item of incompatible dtype is deprecated and will raise in a future error of pandas. Value '0.5' has dtype incompatible with int64, please explicitly cast to a compatible dtype first.\n",
      "  df1.iloc[i,1]=normalize_score(float(ss['neg']),-1.0,1.0)\n",
      "/tmp/ipykernel_4206/1046642672.py:10: FutureWarning: Setting an item of incompatible dtype is deprecated and will raise in a future error of pandas. Value '0.8474999999999999' has dtype incompatible with int64, please explicitly cast to a compatible dtype first.\n",
      "  df1.iloc[i,2]=normalize_score(ss['neu'],-1.0,1.0)\n",
      "/tmp/ipykernel_4206/1046642672.py:11: FutureWarning: Setting an item of incompatible dtype is deprecated and will raise in a future error of pandas. Value '0.6525' has dtype incompatible with int64, please explicitly cast to a compatible dtype first.\n",
      "  df1.iloc[i,3]=normalize_score(ss['pos'],-1.0,1.0)\n",
      "/tmp/ipykernel_4206/1046642672.py:12: FutureWarning: Setting an item of incompatible dtype is deprecated and will raise in a future error of pandas. Value '0.9720500000000001' has dtype incompatible with int64, please explicitly cast to a compatible dtype first.\n",
      "  df1.iloc[i,4]=normalize_score(ss['compound'],-1.0,1.0)\n"
     ]
    }
   ],
   "source": [
    "\n",
    "sid = SentimentIntensityAnalyzer()\n",
    "df1['sent_neg']=0\n",
    "df1['sent_neu']=0\n",
    "df1['sent_pos']=0\n",
    "df1['sent_compound']=0\n",
    "for i in range(0,len(df1),1):\n",
    "  sentence = df1['Sentences'][i]\n",
    "  ss = sid.polarity_scores(sentence)\n",
    "  df1.iloc[i,1]=normalize_score(float(ss['neg']),-1.0,1.0)\n",
    "  df1.iloc[i,2]=normalize_score(ss['neu'],-1.0,1.0)\n",
    "  df1.iloc[i,3]=normalize_score(ss['pos'],-1.0,1.0)\n",
    "  df1.iloc[i,4]=normalize_score(ss['compound'],-1.0,1.0)\n",
    "\n",
    "    \n",
    "   \n",
    "\n",
    " "
   ]
  },
  {
   "cell_type": "code",
   "execution_count": 171,
   "metadata": {},
   "outputs": [
    {
     "name": "stderr",
     "output_type": "stream",
     "text": [
      "/tmp/ipykernel_4206/2229629250.py:9: FutureWarning: Setting an item of incompatible dtype is deprecated and will raise in a future error of pandas. Value '0.5' has dtype incompatible with int64, please explicitly cast to a compatible dtype first.\n",
      "  df2.iloc[i,1]=normalize_score(float(ss['neg']),-1.0,1.0)\n",
      "/tmp/ipykernel_4206/2229629250.py:10: FutureWarning: Setting an item of incompatible dtype is deprecated and will raise in a future error of pandas. Value '0.8474999999999999' has dtype incompatible with int64, please explicitly cast to a compatible dtype first.\n",
      "  df2.iloc[i,2]=normalize_score(ss['neu'],-1.0,1.0)\n",
      "/tmp/ipykernel_4206/2229629250.py:11: FutureWarning: Setting an item of incompatible dtype is deprecated and will raise in a future error of pandas. Value '0.6525' has dtype incompatible with int64, please explicitly cast to a compatible dtype first.\n",
      "  df2.iloc[i,3]=normalize_score(ss['pos'],-1.0,1.0)\n",
      "/tmp/ipykernel_4206/2229629250.py:12: FutureWarning: Setting an item of incompatible dtype is deprecated and will raise in a future error of pandas. Value '0.9720500000000001' has dtype incompatible with int64, please explicitly cast to a compatible dtype first.\n",
      "  df2.iloc[i,4]=normalize_score(ss['compound'],-1.0,1.0)\n"
     ]
    }
   ],
   "source": [
    "sid = SentimentIntensityAnalyzer()\n",
    "df2['sent_neg']=0\n",
    "df2['sent_neu']=0\n",
    "df2['sent_pos']=0\n",
    "df2['sent_compound']=0\n",
    "for i in range(0,len(df1),1):\n",
    "  sentence = df1['Sentences'][i]\n",
    "  ss = sid.polarity_scores(sentence)\n",
    "  df2.iloc[i,1]=normalize_score(float(ss['neg']),-1.0,1.0)\n",
    "  df2.iloc[i,2]=normalize_score(ss['neu'],-1.0,1.0)\n",
    "  df2.iloc[i,3]=normalize_score(ss['pos'],-1.0,1.0)\n",
    "  df2.iloc[i,4]=normalize_score(ss['compound'],-1.0,1.0)\n"
   ]
  },
  {
   "cell_type": "code",
   "execution_count": 201,
   "metadata": {},
   "outputs": [
    {
     "data": {
      "text/html": [
       "<div>\n",
       "<style scoped>\n",
       "    .dataframe tbody tr th:only-of-type {\n",
       "        vertical-align: middle;\n",
       "    }\n",
       "\n",
       "    .dataframe tbody tr th {\n",
       "        vertical-align: top;\n",
       "    }\n",
       "\n",
       "    .dataframe thead th {\n",
       "        text-align: right;\n",
       "    }\n",
       "</style>\n",
       "<table border=\"1\" class=\"dataframe\">\n",
       "  <thead>\n",
       "    <tr style=\"text-align: right;\">\n",
       "      <th></th>\n",
       "      <th>Sentences</th>\n",
       "      <th>sent_neg</th>\n",
       "      <th>sent_neu</th>\n",
       "      <th>sent_pos</th>\n",
       "      <th>sent_compound</th>\n",
       "      <th>Score</th>\n",
       "    </tr>\n",
       "  </thead>\n",
       "  <tbody>\n",
       "    <tr>\n",
       "      <th>0</th>\n",
       "      <td>I have bought several of the Vitality canned d...</td>\n",
       "      <td>0.5000</td>\n",
       "      <td>0.8475</td>\n",
       "      <td>0.6525</td>\n",
       "      <td>0.97205</td>\n",
       "      <td>5</td>\n",
       "    </tr>\n",
       "    <tr>\n",
       "      <th>1</th>\n",
       "      <td>Product arrived labeled as Jumbo Salted Peanut...</td>\n",
       "      <td>0.5690</td>\n",
       "      <td>0.9310</td>\n",
       "      <td>0.5000</td>\n",
       "      <td>0.21680</td>\n",
       "      <td>1</td>\n",
       "    </tr>\n",
       "    <tr>\n",
       "      <th>2</th>\n",
       "      <td>This is a confection that has been around a fe...</td>\n",
       "      <td>0.5455</td>\n",
       "      <td>0.8770</td>\n",
       "      <td>0.5775</td>\n",
       "      <td>0.91325</td>\n",
       "      <td>4</td>\n",
       "    </tr>\n",
       "    <tr>\n",
       "      <th>3</th>\n",
       "      <td>If you are looking for the secret ingredient i...</td>\n",
       "      <td>0.5000</td>\n",
       "      <td>1.0000</td>\n",
       "      <td>0.5000</td>\n",
       "      <td>0.50000</td>\n",
       "      <td>2</td>\n",
       "    </tr>\n",
       "    <tr>\n",
       "      <th>4</th>\n",
       "      <td>Great taffy at a great price.  There was a wid...</td>\n",
       "      <td>0.5000</td>\n",
       "      <td>0.7760</td>\n",
       "      <td>0.7240</td>\n",
       "      <td>0.97340</td>\n",
       "      <td>5</td>\n",
       "    </tr>\n",
       "    <tr>\n",
       "      <th>...</th>\n",
       "      <td>...</td>\n",
       "      <td>...</td>\n",
       "      <td>...</td>\n",
       "      <td>...</td>\n",
       "      <td>...</td>\n",
       "      <td>...</td>\n",
       "    </tr>\n",
       "    <tr>\n",
       "      <th>568449</th>\n",
       "      <td>Great for sesame chicken..this is a good if no...</td>\n",
       "      <td>0.5360</td>\n",
       "      <td>0.8000</td>\n",
       "      <td>0.6635</td>\n",
       "      <td>0.92945</td>\n",
       "      <td>5</td>\n",
       "    </tr>\n",
       "    <tr>\n",
       "      <th>568450</th>\n",
       "      <td>I'm disappointed with the flavor. The chocolat...</td>\n",
       "      <td>0.5950</td>\n",
       "      <td>0.8485</td>\n",
       "      <td>0.5570</td>\n",
       "      <td>0.25760</td>\n",
       "      <td>2</td>\n",
       "    </tr>\n",
       "    <tr>\n",
       "      <th>568451</th>\n",
       "      <td>These stars are small, so you can give 10-15 o...</td>\n",
       "      <td>0.5185</td>\n",
       "      <td>0.9420</td>\n",
       "      <td>0.5390</td>\n",
       "      <td>0.71760</td>\n",
       "      <td>5</td>\n",
       "    </tr>\n",
       "    <tr>\n",
       "      <th>568452</th>\n",
       "      <td>These are the BEST treats for training and rew...</td>\n",
       "      <td>0.5205</td>\n",
       "      <td>0.7530</td>\n",
       "      <td>0.7260</td>\n",
       "      <td>0.98585</td>\n",
       "      <td>5</td>\n",
       "    </tr>\n",
       "    <tr>\n",
       "      <th>568453</th>\n",
       "      <td>I am very satisfied ,product is as advertised,...</td>\n",
       "      <td>0.5000</td>\n",
       "      <td>0.9230</td>\n",
       "      <td>0.5770</td>\n",
       "      <td>0.73770</td>\n",
       "      <td>5</td>\n",
       "    </tr>\n",
       "  </tbody>\n",
       "</table>\n",
       "<p>568454 rows × 6 columns</p>\n",
       "</div>"
      ],
      "text/plain": [
       "                                                Sentences  sent_neg  sent_neu  \\\n",
       "0       I have bought several of the Vitality canned d...    0.5000    0.8475   \n",
       "1       Product arrived labeled as Jumbo Salted Peanut...    0.5690    0.9310   \n",
       "2       This is a confection that has been around a fe...    0.5455    0.8770   \n",
       "3       If you are looking for the secret ingredient i...    0.5000    1.0000   \n",
       "4       Great taffy at a great price.  There was a wid...    0.5000    0.7760   \n",
       "...                                                   ...       ...       ...   \n",
       "568449  Great for sesame chicken..this is a good if no...    0.5360    0.8000   \n",
       "568450  I'm disappointed with the flavor. The chocolat...    0.5950    0.8485   \n",
       "568451  These stars are small, so you can give 10-15 o...    0.5185    0.9420   \n",
       "568452  These are the BEST treats for training and rew...    0.5205    0.7530   \n",
       "568453  I am very satisfied ,product is as advertised,...    0.5000    0.9230   \n",
       "\n",
       "        sent_pos  sent_compound  Score  \n",
       "0         0.6525        0.97205      5  \n",
       "1         0.5000        0.21680      1  \n",
       "2         0.5775        0.91325      4  \n",
       "3         0.5000        0.50000      2  \n",
       "4         0.7240        0.97340      5  \n",
       "...          ...            ...    ...  \n",
       "568449    0.6635        0.92945      5  \n",
       "568450    0.5570        0.25760      2  \n",
       "568451    0.5390        0.71760      5  \n",
       "568452    0.7260        0.98585      5  \n",
       "568453    0.5770        0.73770      5  \n",
       "\n",
       "[568454 rows x 6 columns]"
      ]
     },
     "execution_count": 201,
     "metadata": {},
     "output_type": "execute_result"
    }
   ],
   "source": [
    "df1['Score']=df['Score']\n",
    "df1['Score']=df1['Score']\n",
    "df1\n",
    "\n",
    "\n"
   ]
  },
  {
   "cell_type": "code",
   "execution_count": 188,
   "metadata": {},
   "outputs": [
    {
     "data": {
      "text/plain": [
       "Sentences        0\n",
       "sent_neg         0\n",
       "sent_neu         0\n",
       "sent_pos         0\n",
       "sent_compound    0\n",
       "Score            0\n",
       "dtype: int64"
      ]
     },
     "execution_count": 188,
     "metadata": {},
     "output_type": "execute_result"
    }
   ],
   "source": [
    "df1.isnull().sum()"
   ]
  },
  {
   "cell_type": "markdown",
   "metadata": {},
   "source": [
    "### --------------------------------------- CHALLENGE CODE ENDS HERE --------------------------------------------"
   ]
  },
  {
   "cell_type": "markdown",
   "metadata": {},
   "source": [
    "### NOTE:\n",
    "1. Assign the Accuracy score obtained for the model created in this challenge to the specified variable in the predefined function *submit_accuracy_score* below. The solution is to be written between the comments `# code starts here` and `# code ends here`\n",
    "2. Please do not make any changes to the variable names and the function name *submit_accuracy_score* as this will be used for automated evaluation of the challenge. Any modification in these names will result in unexpected behaviour."
   ]
  },
  {
   "cell_type": "code",
   "execution_count": 218,
   "metadata": {},
   "outputs": [
    {
     "name": "stdout",
     "output_type": "stream",
     "text": [
      "Accuracy for sentiment analysis with Txt:  0.8779514261488177\n"
     ]
    }
   ],
   "source": [
    "\n",
    "\n",
    "def submit_accuracy_score(df1)-> float: \n",
    "    accuracy = 0.0\n",
    "    predicted_sentiments = df1['sent_compound']\n",
    "\n",
    "    present_score = df1['Score']\n",
    "\n",
    "    predicted_sentiments = ['positive' if x>0.5 else ('negative' if x<0.5 else 'neutral')for x in predicted_sentiments]\n",
    "    present_score = ['positive' if x>0.5 else ('negative' if x<0.5 else 'neutral')for x in present_score]\n",
    "    accuracy = accuracy_score(predicted_sentiments,present_score)\n",
    "    \n",
    "    \n",
    "    return accuracy\n",
    "a = submit_accuracy_score(df1)\n",
    "\n",
    "print(\"Accuracy for sentiment analysis with Txt: \", a)\n",
    "\n",
    "\n",
    "\n",
    "\n",
    "   \n",
    "    \n",
    "   "
   ]
  }
 ],
 "metadata": {
  "kernelspec": {
   "display_name": "Python 3",
   "language": "python",
   "name": "python3"
  },
  "language_info": {
   "codemirror_mode": {
    "name": "ipython",
    "version": 3
   },
   "file_extension": ".py",
   "mimetype": "text/x-python",
   "name": "python",
   "nbconvert_exporter": "python",
   "pygments_lexer": "ipython3",
   "version": "3.10.12"
  }
 },
 "nbformat": 4,
 "nbformat_minor": 2
}
